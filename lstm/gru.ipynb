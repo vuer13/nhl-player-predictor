{
 "cells": [
  {
   "cell_type": "code",
   "execution_count": 34,
   "metadata": {},
   "outputs": [],
   "source": [
    "import pandas as pd"
   ]
  },
  {
   "cell_type": "code",
   "execution_count": 35,
   "metadata": {},
   "outputs": [
    {
     "data": {
      "text/html": [
       "<div>\n",
       "<style scoped>\n",
       "    .dataframe tbody tr th:only-of-type {\n",
       "        vertical-align: middle;\n",
       "    }\n",
       "\n",
       "    .dataframe tbody tr th {\n",
       "        vertical-align: top;\n",
       "    }\n",
       "\n",
       "    .dataframe thead th {\n",
       "        text-align: right;\n",
       "    }\n",
       "</style>\n",
       "<table border=\"1\" class=\"dataframe\">\n",
       "  <thead>\n",
       "    <tr style=\"text-align: right;\">\n",
       "      <th></th>\n",
       "      <th>Unnamed: 0.1</th>\n",
       "      <th>Unnamed: 0</th>\n",
       "      <th>playerId</th>\n",
       "      <th>season</th>\n",
       "      <th>name</th>\n",
       "      <th>position</th>\n",
       "      <th>team</th>\n",
       "      <th>games_played</th>\n",
       "      <th>xGoals</th>\n",
       "      <th>pAssists</th>\n",
       "      <th>...</th>\n",
       "      <th>xGoalsFor-goalsFor_team</th>\n",
       "      <th>age2</th>\n",
       "      <th>games_played_per</th>\n",
       "      <th>pos_C</th>\n",
       "      <th>pos_D</th>\n",
       "      <th>pos_L</th>\n",
       "      <th>pos_R</th>\n",
       "      <th>next_games_played_per</th>\n",
       "      <th>next_goals_per_game</th>\n",
       "      <th>next_assists_per_game</th>\n",
       "    </tr>\n",
       "  </thead>\n",
       "  <tbody>\n",
       "    <tr>\n",
       "      <th>27</th>\n",
       "      <td>27</td>\n",
       "      <td>725</td>\n",
       "      <td>8448208</td>\n",
       "      <td>2015</td>\n",
       "      <td>Jaromir Jagr</td>\n",
       "      <td>R</td>\n",
       "      <td>FLA</td>\n",
       "      <td>79</td>\n",
       "      <td>19.76</td>\n",
       "      <td>21.0</td>\n",
       "      <td>...</td>\n",
       "      <td>-8.23</td>\n",
       "      <td>1849</td>\n",
       "      <td>0.963415</td>\n",
       "      <td>0</td>\n",
       "      <td>0</td>\n",
       "      <td>0</td>\n",
       "      <td>1</td>\n",
       "      <td>0.987805</td>\n",
       "      <td>0.197531</td>\n",
       "      <td>0.370370</td>\n",
       "    </tr>\n",
       "    <tr>\n",
       "      <th>1516</th>\n",
       "      <td>1516</td>\n",
       "      <td>1652</td>\n",
       "      <td>8448208</td>\n",
       "      <td>2016</td>\n",
       "      <td>Jaromir Jagr</td>\n",
       "      <td>R</td>\n",
       "      <td>FLA</td>\n",
       "      <td>81</td>\n",
       "      <td>23.04</td>\n",
       "      <td>20.0</td>\n",
       "      <td>...</td>\n",
       "      <td>20.95</td>\n",
       "      <td>1936</td>\n",
       "      <td>0.987805</td>\n",
       "      <td>0</td>\n",
       "      <td>0</td>\n",
       "      <td>0</td>\n",
       "      <td>1</td>\n",
       "      <td>0.268293</td>\n",
       "      <td>0.045455</td>\n",
       "      <td>0.272727</td>\n",
       "    </tr>\n",
       "    <tr>\n",
       "      <th>840</th>\n",
       "      <td>840</td>\n",
       "      <td>137</td>\n",
       "      <td>8462038</td>\n",
       "      <td>2015</td>\n",
       "      <td>Shane Doan</td>\n",
       "      <td>R</td>\n",
       "      <td>ARI</td>\n",
       "      <td>72</td>\n",
       "      <td>21.16</td>\n",
       "      <td>12.0</td>\n",
       "      <td>...</td>\n",
       "      <td>-6.89</td>\n",
       "      <td>1521</td>\n",
       "      <td>0.878049</td>\n",
       "      <td>0</td>\n",
       "      <td>0</td>\n",
       "      <td>0</td>\n",
       "      <td>1</td>\n",
       "      <td>0.890244</td>\n",
       "      <td>0.068493</td>\n",
       "      <td>0.287671</td>\n",
       "    </tr>\n",
       "    <tr>\n",
       "      <th>129</th>\n",
       "      <td>129</td>\n",
       "      <td>484</td>\n",
       "      <td>8462042</td>\n",
       "      <td>2015</td>\n",
       "      <td>Jarome Iginla</td>\n",
       "      <td>R</td>\n",
       "      <td>COL</td>\n",
       "      <td>82</td>\n",
       "      <td>18.66</td>\n",
       "      <td>16.0</td>\n",
       "      <td>...</td>\n",
       "      <td>-10.79</td>\n",
       "      <td>1444</td>\n",
       "      <td>1.000000</td>\n",
       "      <td>0</td>\n",
       "      <td>0</td>\n",
       "      <td>0</td>\n",
       "      <td>1</td>\n",
       "      <td>0.963415</td>\n",
       "      <td>0.177215</td>\n",
       "      <td>0.164557</td>\n",
       "    </tr>\n",
       "    <tr>\n",
       "      <th>437</th>\n",
       "      <td>437</td>\n",
       "      <td>173</td>\n",
       "      <td>8464989</td>\n",
       "      <td>2015</td>\n",
       "      <td>Matt Cullen</td>\n",
       "      <td>C</td>\n",
       "      <td>PIT</td>\n",
       "      <td>82</td>\n",
       "      <td>11.16</td>\n",
       "      <td>11.0</td>\n",
       "      <td>...</td>\n",
       "      <td>-0.07</td>\n",
       "      <td>1521</td>\n",
       "      <td>1.000000</td>\n",
       "      <td>1</td>\n",
       "      <td>0</td>\n",
       "      <td>0</td>\n",
       "      <td>0</td>\n",
       "      <td>0.878049</td>\n",
       "      <td>0.180556</td>\n",
       "      <td>0.250000</td>\n",
       "    </tr>\n",
       "  </tbody>\n",
       "</table>\n",
       "<p>5 rows × 47 columns</p>\n",
       "</div>"
      ],
      "text/plain": [
       "      Unnamed: 0.1  Unnamed: 0  playerId  season           name position team  \\\n",
       "27              27         725   8448208    2015   Jaromir Jagr        R  FLA   \n",
       "1516          1516        1652   8448208    2016   Jaromir Jagr        R  FLA   \n",
       "840            840         137   8462038    2015     Shane Doan        R  ARI   \n",
       "129            129         484   8462042    2015  Jarome Iginla        R  COL   \n",
       "437            437         173   8464989    2015    Matt Cullen        C  PIT   \n",
       "\n",
       "      games_played  xGoals  pAssists  ...  xGoalsFor-goalsFor_team  age2  \\\n",
       "27              79   19.76      21.0  ...                    -8.23  1849   \n",
       "1516            81   23.04      20.0  ...                    20.95  1936   \n",
       "840             72   21.16      12.0  ...                    -6.89  1521   \n",
       "129             82   18.66      16.0  ...                   -10.79  1444   \n",
       "437             82   11.16      11.0  ...                    -0.07  1521   \n",
       "\n",
       "      games_played_per  pos_C  pos_D  pos_L  pos_R  next_games_played_per  \\\n",
       "27            0.963415      0      0      0      1               0.987805   \n",
       "1516          0.987805      0      0      0      1               0.268293   \n",
       "840           0.878049      0      0      0      1               0.890244   \n",
       "129           1.000000      0      0      0      1               0.963415   \n",
       "437           1.000000      1      0      0      0               0.878049   \n",
       "\n",
       "      next_goals_per_game  next_assists_per_game  \n",
       "27               0.197531               0.370370  \n",
       "1516             0.045455               0.272727  \n",
       "840              0.068493               0.287671  \n",
       "129              0.177215               0.164557  \n",
       "437              0.180556               0.250000  \n",
       "\n",
       "[5 rows x 47 columns]"
      ]
     },
     "execution_count": 35,
     "metadata": {},
     "output_type": "execute_result"
    }
   ],
   "source": [
    "df = pd.read_csv('../data/lstm_dataset_final.csv')\n",
    "\n",
    "df = df.sort_values(by=['playerId', 'season'])\n",
    "\n",
    "features = [\n",
    "    'xGoals', 'pAssists', 'sAssists', 'sog', 'points', 'goals',\n",
    "    'on_ice_chances', 'on_ice_goals', 'hits', 'penality_mins', 'pen_drawn',\n",
    "    'corsi', 'xGoalsForAfterShifts', 'corsiForAfterShifts',\n",
    "    'icetime_per_game', 'shot_percentage', 'points_per_60',\n",
    "    'ixG-goals', 'ppg', 'apg', 'gpg',\n",
    "    'xGoalsFor-goalsFor_team', 'age', 'age2', 'games_played_per',\n",
    "    'pos_C', 'pos_D', 'pos_L', 'pos_R'\n",
    "]\n",
    "targets = ['next_games_played_per', 'next_goals_per_game', 'next_assists_per_game']\n",
    "\n",
    "df = df.dropna(subset=features + targets)\n",
    "\n",
    "for col in ['pos_C', 'pos_D', 'pos_L', 'pos_R']:\n",
    "    df[col] = df[col].astype(int)\n",
    "    \n",
    "df.head()\n"
   ]
  },
  {
   "cell_type": "code",
   "execution_count": 36,
   "metadata": {},
   "outputs": [],
   "source": [
    "from collections import defaultdict\n",
    "import numpy as np"
   ]
  },
  {
   "cell_type": "code",
   "execution_count": null,
   "metadata": {},
   "outputs": [],
   "source": [
    "seq = 3\n",
    "\n",
    "X = []\n",
    "y = []\n",
    "\n",
    "player_groups = df.groupby('playerId')"
   ]
  },
  {
   "cell_type": "code",
   "execution_count": 5,
   "metadata": {},
   "outputs": [],
   "source": [
    "from sklearn.preprocessing import StandardScaler"
   ]
  },
  {
   "cell_type": "code",
   "execution_count": 6,
   "metadata": {},
   "outputs": [],
   "source": [
    "X = df[features].values\n",
    "y = df[targets].values"
   ]
  },
  {
   "cell_type": "code",
   "execution_count": 7,
   "metadata": {},
   "outputs": [],
   "source": [
    "X_scaler = StandardScaler()\n",
    "y_scaler = StandardScaler()\n",
    "\n",
    "X_scaled = X_scaler.fit_transform(X)\n",
    "y_scaled = y_scaler.fit_transform(y)\n",
    "\n",
    "X_scaled = X_scaled.reshape((X_scaled.shape[0], 1, X_scaled.shape[1]))"
   ]
  },
  {
   "cell_type": "code",
   "execution_count": 8,
   "metadata": {},
   "outputs": [],
   "source": [
    "from torch.utils.data import Dataset"
   ]
  },
  {
   "cell_type": "code",
   "execution_count": 9,
   "metadata": {},
   "outputs": [],
   "source": [
    "class NHLDataset(Dataset):\n",
    "    def __init__(self, X, y):\n",
    "        self.X = torch.tensor(X, dtype=torch.float32)\n",
    "        self.y = torch.tensor(y, dtype=torch.float32)\n",
    "\n",
    "    def __len__(self):\n",
    "        return len(self.X)\n",
    "\n",
    "    def __getitem__(self, idx):\n",
    "        return self.X[idx], self.y[idx]"
   ]
  },
  {
   "cell_type": "code",
   "execution_count": 10,
   "metadata": {},
   "outputs": [],
   "source": [
    "import torch.nn as nn"
   ]
  },
  {
   "cell_type": "code",
   "execution_count": 11,
   "metadata": {},
   "outputs": [],
   "source": [
    "class LSTM(nn.Module):\n",
    "    def __init__(self, input_size, hidden_size, num_layers, dropout):\n",
    "        super(LSTM, self).__init__()\n",
    "        self.lstm = nn.LSTM(input_size, hidden_size, num_layers,\n",
    "                            batch_first=True, dropout=dropout if num_layers > 1 else 0.0)\n",
    "        self.fc = nn.Linear(hidden_size, 3)\n",
    "\n",
    "    def forward(self, x):\n",
    "        _, (hn, _) = self.lstm(x)\n",
    "        out = self.fc(hn[-1])\n",
    "        return out"
   ]
  },
  {
   "cell_type": "code",
   "execution_count": 17,
   "metadata": {},
   "outputs": [],
   "source": [
    "from sklearn.model_selection import train_test_split\n",
    "from torch.utils.data import DataLoader\n",
    "import torch"
   ]
  },
  {
   "cell_type": "code",
   "execution_count": 18,
   "metadata": {},
   "outputs": [],
   "source": [
    "X_train, X_val, y_train, y_val = train_test_split(X_scaled, y_scaled, test_size=0.2, random_state=42)\n",
    "\n",
    "train_loader = DataLoader(NHLDataset(X_train, y_train), batch_size=64, shuffle=True)\n",
    "val_loader = DataLoader(NHLDataset(X_val, y_val), batch_size=64)"
   ]
  },
  {
   "cell_type": "code",
   "execution_count": 19,
   "metadata": {},
   "outputs": [
    {
     "name": "stderr",
     "output_type": "stream",
     "text": [
      "/Users/ryanvu/.pyenv/versions/3.10.13/lib/python3.10/site-packages/tqdm/auto.py:21: TqdmWarning: IProgress not found. Please update jupyter and ipywidgets. See https://ipywidgets.readthedocs.io/en/stable/user_install.html\n",
      "  from .autonotebook import tqdm as notebook_tqdm\n"
     ]
    }
   ],
   "source": [
    "import optuna"
   ]
  },
  {
   "cell_type": "code",
   "execution_count": 20,
   "metadata": {},
   "outputs": [],
   "source": [
    "def objective(trial):\n",
    "    hidden_size = trial.suggest_int(\"hidden_size\", 64, 256)\n",
    "    num_layers = trial.suggest_int(\"num_layers\", 1, 3)\n",
    "    dropout = trial.suggest_float(\"dropout\", 0.0, 0.5)\n",
    "    lr = trial.suggest_float(\"lr\", 1e-4, 1e-2, log=True)\n",
    "    batch_size = 64\n",
    "\n",
    "    model = LSTM(input_size=X_train.shape[2], hidden_size=hidden_size,\n",
    "                      num_layers=num_layers, dropout=dropout)\n",
    "\n",
    "    optimizer = torch.optim.Adam(model.parameters(), lr=lr)\n",
    "    loss_fn = nn.MSELoss()\n",
    "\n",
    "    for epoch in range(10):\n",
    "        model.train()\n",
    "        for xb, yb in train_loader:\n",
    "            pred = model(xb)\n",
    "            loss = loss_fn(pred, yb)\n",
    "            optimizer.zero_grad()\n",
    "            loss.backward()\n",
    "            optimizer.step()\n",
    "\n",
    "    model.eval()\n",
    "    preds, targets = [], []\n",
    "    with torch.no_grad():\n",
    "        for xb, yb in val_loader:\n",
    "            out = model(xb)\n",
    "            preds.append(out.numpy())\n",
    "            targets.append(yb.numpy())\n",
    "\n",
    "    preds = np.concatenate(preds, axis=0)\n",
    "    targets = np.concatenate(targets, axis=0)\n",
    "\n",
    "    preds_orig = y_scaler.inverse_transform(preds)\n",
    "    targets_orig = y_scaler.inverse_transform(targets)\n",
    "\n",
    "    return r2_score(targets_orig, preds_orig)"
   ]
  },
  {
   "cell_type": "code",
   "execution_count": 119,
   "metadata": {},
   "outputs": [
    {
     "name": "stderr",
     "output_type": "stream",
     "text": [
      "[I 2025-06-22 23:29:24,971] A new study created in memory with name: no-name-2976a02e-e42c-4476-8fbf-8dde95bdd989\n",
      "[I 2025-06-22 23:29:28,237] Trial 0 finished with value: 0.5367634892463684 and parameters: {'hidden_size': 190, 'num_layers': 1, 'dropout': 0.054696474651310556, 'lr': 0.0064808578814854285}. Best is trial 0 with value: 0.5367634892463684.\n",
      "[I 2025-06-22 23:29:34,680] Trial 1 finished with value: 0.5339212417602539 and parameters: {'hidden_size': 191, 'num_layers': 2, 'dropout': 0.02066519600246991, 'lr': 0.0014777671238253094}. Best is trial 0 with value: 0.5367634892463684.\n",
      "[I 2025-06-22 23:29:37,823] Trial 2 finished with value: 0.5365378260612488 and parameters: {'hidden_size': 166, 'num_layers': 1, 'dropout': 0.18954468729874924, 'lr': 0.002386972010702318}. Best is trial 0 with value: 0.5367634892463684.\n",
      "[I 2025-06-22 23:29:39,901] Trial 3 finished with value: 0.5085695385932922 and parameters: {'hidden_size': 74, 'num_layers': 1, 'dropout': 0.014457983249435702, 'lr': 0.00013907450181808588}. Best is trial 0 with value: 0.5367634892463684.\n",
      "[I 2025-06-22 23:29:51,341] Trial 4 finished with value: 0.5377860069274902 and parameters: {'hidden_size': 252, 'num_layers': 3, 'dropout': 0.2990249822145554, 'lr': 0.0003456246004623782}. Best is trial 4 with value: 0.5377860069274902.\n",
      "[I 2025-06-22 23:29:55,769] Trial 5 finished with value: 0.5231450200080872 and parameters: {'hidden_size': 91, 'num_layers': 3, 'dropout': 0.005211385160471371, 'lr': 0.00868559528299245}. Best is trial 4 with value: 0.5377860069274902.\n",
      "[I 2025-06-22 23:29:59,144] Trial 6 finished with value: 0.5375927090644836 and parameters: {'hidden_size': 91, 'num_layers': 2, 'dropout': 0.1259449340855518, 'lr': 0.0004713516010258485}. Best is trial 4 with value: 0.5377860069274902.\n",
      "[I 2025-06-22 23:30:04,645] Trial 7 finished with value: 0.5375781655311584 and parameters: {'hidden_size': 122, 'num_layers': 3, 'dropout': 0.4088897239206792, 'lr': 0.00201199704783251}. Best is trial 4 with value: 0.5377860069274902.\n",
      "[I 2025-06-22 23:30:09,480] Trial 8 finished with value: 0.5376473069190979 and parameters: {'hidden_size': 236, 'num_layers': 1, 'dropout': 0.4029947643041874, 'lr': 0.004382926947749884}. Best is trial 4 with value: 0.5377860069274902.\n",
      "[I 2025-06-22 23:30:13,181] Trial 9 finished with value: 0.5374762415885925 and parameters: {'hidden_size': 205, 'num_layers': 1, 'dropout': 0.22179770964762424, 'lr': 0.0005876345095482328}. Best is trial 4 with value: 0.5377860069274902.\n",
      "[I 2025-06-22 23:30:29,832] Trial 10 finished with value: 0.5032123923301697 and parameters: {'hidden_size': 245, 'num_layers': 3, 'dropout': 0.30505365827190134, 'lr': 0.00010159426825870079}. Best is trial 4 with value: 0.5377860069274902.\n",
      "[I 2025-06-22 23:30:38,354] Trial 11 finished with value: 0.5350265502929688 and parameters: {'hidden_size': 255, 'num_layers': 2, 'dropout': 0.47060665909071475, 'lr': 0.00027937332127961687}. Best is trial 4 with value: 0.5377860069274902.\n",
      "[I 2025-06-22 23:30:51,239] Trial 12 finished with value: 0.533398449420929 and parameters: {'hidden_size': 226, 'num_layers': 3, 'dropout': 0.3374888690183806, 'lr': 0.00307930811757354}. Best is trial 4 with value: 0.5377860069274902.\n",
      "[I 2025-06-22 23:30:58,698] Trial 13 finished with value: 0.5351127982139587 and parameters: {'hidden_size': 214, 'num_layers': 2, 'dropout': 0.36827413951652493, 'lr': 0.000666824819096543}. Best is trial 4 with value: 0.5377860069274902.\n",
      "[I 2025-06-22 23:31:04,243] Trial 14 finished with value: 0.5320613980293274 and parameters: {'hidden_size': 146, 'num_layers': 2, 'dropout': 0.4703882438862285, 'lr': 0.0002577749826881052}. Best is trial 4 with value: 0.5377860069274902.\n",
      "[I 2025-06-22 23:31:17,831] Trial 15 finished with value: 0.5230053067207336 and parameters: {'hidden_size': 234, 'num_layers': 3, 'dropout': 0.2882469599077328, 'lr': 0.005118314909391245}. Best is trial 4 with value: 0.5377860069274902.\n",
      "[I 2025-06-22 23:31:23,363] Trial 16 finished with value: 0.5368850827217102 and parameters: {'hidden_size': 254, 'num_layers': 1, 'dropout': 0.40343714799818053, 'lr': 0.001265030029046896}. Best is trial 4 with value: 0.5377860069274902.\n",
      "[I 2025-06-22 23:31:29,797] Trial 17 finished with value: 0.533863365650177 and parameters: {'hidden_size': 164, 'num_layers': 2, 'dropout': 0.2658858696235667, 'lr': 0.0037769672500197124}. Best is trial 4 with value: 0.5377860069274902.\n",
      "[I 2025-06-22 23:31:39,275] Trial 18 finished with value: 0.5336259603500366 and parameters: {'hidden_size': 223, 'num_layers': 2, 'dropout': 0.17271836604305277, 'lr': 0.0002994705901666336}. Best is trial 4 with value: 0.5377860069274902.\n",
      "[I 2025-06-22 23:31:49,487] Trial 19 finished with value: 0.5362036228179932 and parameters: {'hidden_size': 190, 'num_layers': 3, 'dropout': 0.4233828554281959, 'lr': 0.0009158613810505924}. Best is trial 4 with value: 0.5377860069274902.\n",
      "[I 2025-06-22 23:31:52,502] Trial 20 finished with value: 0.523341715335846 and parameters: {'hidden_size': 131, 'num_layers': 1, 'dropout': 0.3365795526717685, 'lr': 0.0001778296099771202}. Best is trial 4 with value: 0.5377860069274902.\n",
      "[I 2025-06-22 23:31:56,588] Trial 21 finished with value: 0.5383753776550293 and parameters: {'hidden_size': 99, 'num_layers': 2, 'dropout': 0.09241062464884287, 'lr': 0.00043773808007101136}. Best is trial 21 with value: 0.5383753776550293.\n",
      "[I 2025-06-22 23:31:59,345] Trial 22 finished with value: 0.534415602684021 and parameters: {'hidden_size': 119, 'num_layers': 1, 'dropout': 0.11476935961825198, 'lr': 0.0004115973760452498}. Best is trial 21 with value: 0.5383753776550293.\n",
      "[I 2025-06-22 23:32:02,736] Trial 23 finished with value: 0.537287712097168 and parameters: {'hidden_size': 64, 'num_layers': 2, 'dropout': 0.08283901303060537, 'lr': 0.0007855585744328575}. Best is trial 21 with value: 0.5383753776550293.\n",
      "[I 2025-06-22 23:32:16,976] Trial 24 finished with value: 0.5382158160209656 and parameters: {'hidden_size': 241, 'num_layers': 3, 'dropout': 0.24660964369588884, 'lr': 0.00040739797925648443}. Best is trial 21 with value: 0.5383753776550293.\n",
      "[I 2025-06-22 23:32:22,444] Trial 25 finished with value: 0.5361983180046082 and parameters: {'hidden_size': 107, 'num_layers': 3, 'dropout': 0.2268182631865926, 'lr': 0.00035846562300885103}. Best is trial 21 with value: 0.5383753776550293.\n",
      "[I 2025-06-22 23:32:30,779] Trial 26 finished with value: 0.5344481468200684 and parameters: {'hidden_size': 147, 'num_layers': 3, 'dropout': 0.1559992593880241, 'lr': 0.00021947553232659002}. Best is trial 21 with value: 0.5383753776550293.\n",
      "[I 2025-06-22 23:32:41,923] Trial 27 finished with value: 0.5383648872375488 and parameters: {'hidden_size': 204, 'num_layers': 3, 'dropout': 0.2231062875078152, 'lr': 0.0005871150756893255}. Best is trial 21 with value: 0.5383753776550293.\n",
      "[I 2025-06-22 23:32:49,195] Trial 28 finished with value: 0.5392901301383972 and parameters: {'hidden_size': 208, 'num_layers': 2, 'dropout': 0.21265886609338036, 'lr': 0.0005223643206310589}. Best is trial 28 with value: 0.5392901301383972.\n",
      "[I 2025-06-22 23:32:55,532] Trial 29 finished with value: 0.5277113914489746 and parameters: {'hidden_size': 182, 'num_layers': 2, 'dropout': 0.0622420586200339, 'lr': 0.0010620458296777954}. Best is trial 28 with value: 0.5392901301383972.\n",
      "[I 2025-06-22 23:33:02,723] Trial 30 finished with value: 0.5372304320335388 and parameters: {'hidden_size': 204, 'num_layers': 2, 'dropout': 0.12488893552551902, 'lr': 0.0005914321376360355}. Best is trial 28 with value: 0.5392901301383972.\n",
      "[I 2025-06-22 23:33:12,611] Trial 31 finished with value: 0.5359202027320862 and parameters: {'hidden_size': 181, 'num_layers': 3, 'dropout': 0.2117545605731162, 'lr': 0.0005106196851938684}. Best is trial 28 with value: 0.5392901301383972.\n",
      "[I 2025-06-22 23:33:21,196] Trial 32 finished with value: 0.5392573475837708 and parameters: {'hidden_size': 207, 'num_layers': 2, 'dropout': 0.2370739864515492, 'lr': 0.0007339121065165443}. Best is trial 28 with value: 0.5392901301383972.\n",
      "[I 2025-06-22 23:33:28,214] Trial 33 finished with value: 0.5330778956413269 and parameters: {'hidden_size': 202, 'num_layers': 2, 'dropout': 0.18527293639749737, 'lr': 0.0016216133189965632}. Best is trial 28 with value: 0.5392901301383972.\n",
      "[I 2025-06-22 23:33:35,075] Trial 34 finished with value: 0.5368804335594177 and parameters: {'hidden_size': 174, 'num_layers': 2, 'dropout': 0.15423880384353728, 'lr': 0.0008915735784938658}. Best is trial 28 with value: 0.5392901301383972.\n",
      "[I 2025-06-22 23:33:42,688] Trial 35 finished with value: 0.5359163284301758 and parameters: {'hidden_size': 218, 'num_layers': 2, 'dropout': 0.24856550319706597, 'lr': 0.000711113279714208}. Best is trial 28 with value: 0.5392901301383972.\n",
      "[I 2025-06-22 23:33:48,382] Trial 36 finished with value: 0.5312366485595703 and parameters: {'hidden_size': 149, 'num_layers': 2, 'dropout': 0.04078489276555904, 'lr': 0.0011532751631439441}. Best is trial 28 with value: 0.5392901301383972.\n",
      "[I 2025-06-22 23:33:55,381] Trial 37 finished with value: 0.5340299010276794 and parameters: {'hidden_size': 197, 'num_layers': 2, 'dropout': 0.1949445883412948, 'lr': 0.0014837105754671206}. Best is trial 28 with value: 0.5392901301383972.\n",
      "[I 2025-06-22 23:34:03,161] Trial 38 finished with value: 0.537777841091156 and parameters: {'hidden_size': 211, 'num_layers': 2, 'dropout': 0.10341529514962161, 'lr': 0.0004793542867348244}. Best is trial 28 with value: 0.5392901301383972.\n",
      "[I 2025-06-22 23:34:06,798] Trial 39 finished with value: 0.5252428650856018 and parameters: {'hidden_size': 91, 'num_layers': 2, 'dropout': 0.27541752746722886, 'lr': 0.00019727169313847666}. Best is trial 28 with value: 0.5392901301383972.\n",
      "[I 2025-06-22 23:34:14,134] Trial 40 finished with value: 0.5315200686454773 and parameters: {'hidden_size': 191, 'num_layers': 2, 'dropout': 0.13992104506116448, 'lr': 0.0022448961471531097}. Best is trial 28 with value: 0.5392901301383972.\n",
      "[I 2025-06-22 23:34:26,103] Trial 41 finished with value: 0.5381514430046082 and parameters: {'hidden_size': 234, 'num_layers': 3, 'dropout': 0.23764693122338437, 'lr': 0.00037604599339124777}. Best is trial 28 with value: 0.5392901301383972.\n",
      "[I 2025-06-22 23:34:37,527] Trial 42 finished with value: 0.5387266278266907 and parameters: {'hidden_size': 240, 'num_layers': 3, 'dropout': 0.32131844983879077, 'lr': 0.0005731648389205907}. Best is trial 28 with value: 0.5392901301383972.\n",
      "[I 2025-06-22 23:34:48,663] Trial 43 finished with value: 0.5346141457557678 and parameters: {'hidden_size': 225, 'num_layers': 3, 'dropout': 0.3086602390963891, 'lr': 0.000566539556158948}. Best is trial 28 with value: 0.5392901301383972.\n",
      "[I 2025-06-22 23:34:54,781] Trial 44 finished with value: 0.53677898645401 and parameters: {'hidden_size': 177, 'num_layers': 2, 'dropout': 0.34581912192798003, 'lr': 0.0007557903606397012}. Best is trial 28 with value: 0.5392901301383972.\n",
      "[I 2025-06-22 23:35:07,202] Trial 45 finished with value: 0.5350484848022461 and parameters: {'hidden_size': 245, 'num_layers': 3, 'dropout': 0.20738240483184545, 'lr': 0.00031883599868569963}. Best is trial 28 with value: 0.5392901301383972.\n",
      "[I 2025-06-22 23:35:13,885] Trial 46 finished with value: 0.5367810130119324 and parameters: {'hidden_size': 211, 'num_layers': 2, 'dropout': 0.26710474612056667, 'lr': 0.00046188812086836185}. Best is trial 28 with value: 0.5392901301383972.\n",
      "[I 2025-06-22 23:35:21,447] Trial 47 finished with value: 0.5376816391944885 and parameters: {'hidden_size': 156, 'num_layers': 3, 'dropout': 0.32322920969200797, 'lr': 0.0006565364655345853}. Best is trial 28 with value: 0.5392901301383972.\n",
      "[I 2025-06-22 23:35:27,686] Trial 48 finished with value: 0.5275870561599731 and parameters: {'hidden_size': 197, 'num_layers': 2, 'dropout': 0.28729426494339455, 'lr': 0.00014410244366547609}. Best is trial 28 with value: 0.5392901301383972.\n",
      "[I 2025-06-22 23:35:33,055] Trial 49 finished with value: 0.5369252562522888 and parameters: {'hidden_size': 172, 'num_layers': 2, 'dropout': 0.17495962256972208, 'lr': 0.001017053655327107}. Best is trial 28 with value: 0.5392901301383972.\n",
      "[I 2025-06-22 23:35:44,803] Trial 50 finished with value: 0.537553608417511 and parameters: {'hidden_size': 232, 'num_layers': 3, 'dropout': 0.3688354194405385, 'lr': 0.0002475634845312776}. Best is trial 28 with value: 0.5392901301383972.\n",
      "[I 2025-06-22 23:35:56,984] Trial 51 finished with value: 0.5380424857139587 and parameters: {'hidden_size': 241, 'num_layers': 3, 'dropout': 0.2502154924480687, 'lr': 0.0004461536016162559}. Best is trial 28 with value: 0.5392901301383972.\n",
      "[I 2025-06-22 23:36:08,216] Trial 52 finished with value: 0.5232701301574707 and parameters: {'hidden_size': 226, 'num_layers': 3, 'dropout': 0.25151452422289433, 'lr': 0.009199352979653685}. Best is trial 28 with value: 0.5392901301383972.\n",
      "[I 2025-06-22 23:36:20,762] Trial 53 finished with value: 0.5384427905082703 and parameters: {'hidden_size': 246, 'num_layers': 3, 'dropout': 0.23062230664403463, 'lr': 0.0005725007465202636}. Best is trial 28 with value: 0.5392901301383972.\n",
      "[I 2025-06-22 23:36:33,059] Trial 54 finished with value: 0.5379583239555359 and parameters: {'hidden_size': 249, 'num_layers': 3, 'dropout': 0.22241349174070452, 'lr': 0.0005665644042860912}. Best is trial 28 with value: 0.5392901301383972.\n",
      "[I 2025-06-22 23:36:43,495] Trial 55 finished with value: 0.5342289805412292 and parameters: {'hidden_size': 218, 'num_layers': 3, 'dropout': 0.0006042715243028407, 'lr': 0.0007564217080288018}. Best is trial 28 with value: 0.5392901301383972.\n",
      "[I 2025-06-22 23:36:46,757] Trial 56 finished with value: 0.53779536485672 and parameters: {'hidden_size': 98, 'num_layers': 2, 'dropout': 0.19911641695947085, 'lr': 0.0008490578192376714}. Best is trial 28 with value: 0.5392901301383972.\n",
      "[I 2025-06-22 23:36:49,313] Trial 57 finished with value: 0.5356934666633606 and parameters: {'hidden_size': 129, 'num_layers': 1, 'dropout': 0.30776984025253407, 'lr': 0.0013329470539866853}. Best is trial 28 with value: 0.5392901301383972.\n",
      "[I 2025-06-22 23:36:54,479] Trial 58 finished with value: 0.5373745560646057 and parameters: {'hidden_size': 76, 'num_layers': 3, 'dropout': 0.3676737169347806, 'lr': 0.0006342130260468219}. Best is trial 28 with value: 0.5392901301383972.\n",
      "[I 2025-06-22 23:37:01,421] Trial 59 finished with value: 0.5372560620307922 and parameters: {'hidden_size': 230, 'num_layers': 2, 'dropout': 0.1614264295655865, 'lr': 0.00031892378742523085}. Best is trial 28 with value: 0.5392901301383972.\n",
      "[I 2025-06-22 23:37:13,563] Trial 60 finished with value: 0.5388948321342468 and parameters: {'hidden_size': 241, 'num_layers': 3, 'dropout': 0.09702180772647928, 'lr': 0.0005278939329558043}. Best is trial 28 with value: 0.5392901301383972.\n",
      "[I 2025-06-22 23:37:25,144] Trial 61 finished with value: 0.5369670391082764 and parameters: {'hidden_size': 255, 'num_layers': 3, 'dropout': 0.09336936649608159, 'lr': 0.0005125153527423651}. Best is trial 28 with value: 0.5392901301383972.\n",
      "[I 2025-06-22 23:37:37,482] Trial 62 finished with value: 0.5343418717384338 and parameters: {'hidden_size': 242, 'num_layers': 3, 'dropout': 0.06775530525670485, 'lr': 0.0004016615353953733}. Best is trial 28 with value: 0.5392901301383972.\n",
      "[I 2025-06-22 23:37:50,057] Trial 63 finished with value: 0.5368561148643494 and parameters: {'hidden_size': 248, 'num_layers': 3, 'dropout': 0.13532844526617105, 'lr': 0.000583311963829649}. Best is trial 28 with value: 0.5392901301383972.\n",
      "[I 2025-06-22 23:38:01,877] Trial 64 finished with value: 0.5279445052146912 and parameters: {'hidden_size': 238, 'num_layers': 3, 'dropout': 0.03245976200378137, 'lr': 0.0003525978005244669}. Best is trial 28 with value: 0.5392901301383972.\n",
      "[I 2025-06-22 23:38:12,627] Trial 65 finished with value: 0.5364254713058472 and parameters: {'hidden_size': 221, 'num_layers': 3, 'dropout': 0.28406956798405303, 'lr': 0.0009632428607900159}. Best is trial 28 with value: 0.5392901301383972.\n",
      "[I 2025-06-22 23:38:23,927] Trial 66 finished with value: 0.5378019213676453 and parameters: {'hidden_size': 211, 'num_layers': 3, 'dropout': 0.2297715674298933, 'lr': 0.0002829241653522622}. Best is trial 28 with value: 0.5392901301383972.\n",
      "[I 2025-06-22 23:38:31,546] Trial 67 finished with value: 0.5366377234458923 and parameters: {'hidden_size': 196, 'num_layers': 2, 'dropout': 0.2121149497955296, 'lr': 0.0005090353260649153}. Best is trial 28 with value: 0.5392901301383972.\n",
      "[I 2025-06-22 23:38:41,559] Trial 68 finished with value: 0.5310320854187012 and parameters: {'hidden_size': 184, 'num_layers': 3, 'dropout': 0.44450617371606566, 'lr': 0.0017869689917141736}. Best is trial 28 with value: 0.5392901301383972.\n",
      "[I 2025-06-22 23:38:50,504] Trial 69 finished with value: 0.5389143824577332 and parameters: {'hidden_size': 207, 'num_layers': 2, 'dropout': 0.18590545977629663, 'lr': 0.0007160303622568638}. Best is trial 28 with value: 0.5392901301383972.\n",
      "[I 2025-06-22 23:38:57,890] Trial 70 finished with value: 0.5381364226341248 and parameters: {'hidden_size': 216, 'num_layers': 2, 'dropout': 0.1822926119907345, 'lr': 0.0008232287277801536}. Best is trial 28 with value: 0.5392901301383972.\n",
      "[I 2025-06-22 23:39:06,843] Trial 71 finished with value: 0.5353208780288696 and parameters: {'hidden_size': 205, 'num_layers': 2, 'dropout': 0.16649097845484412, 'lr': 0.0006691679919212451}. Best is trial 28 with value: 0.5392901301383972.\n",
      "[I 2025-06-22 23:39:14,805] Trial 72 finished with value: 0.5352341532707214 and parameters: {'hidden_size': 229, 'num_layers': 2, 'dropout': 0.10840365787057979, 'lr': 0.0005393137280677739}. Best is trial 28 with value: 0.5392901301383972.\n",
      "[I 2025-06-22 23:39:21,545] Trial 73 finished with value: 0.5379393696784973 and parameters: {'hidden_size': 187, 'num_layers': 2, 'dropout': 0.0806330286217541, 'lr': 0.00041279544953477305}. Best is trial 28 with value: 0.5392901301383972.\n",
      "[I 2025-06-22 23:39:29,509] Trial 74 finished with value: 0.5341359972953796 and parameters: {'hidden_size': 206, 'num_layers': 2, 'dropout': 0.1465802673287629, 'lr': 0.0011697030826995013}. Best is trial 28 with value: 0.5392901301383972.\n",
      "[I 2025-06-22 23:39:38,559] Trial 75 finished with value: 0.5381328463554382 and parameters: {'hidden_size': 239, 'num_layers': 2, 'dropout': 0.23962745607150424, 'lr': 0.0007257160713571582}. Best is trial 28 with value: 0.5392901301383972.\n",
      "[I 2025-06-22 23:39:45,702] Trial 76 finished with value: 0.536830484867096 and parameters: {'hidden_size': 201, 'num_layers': 2, 'dropout': 0.2647022680708344, 'lr': 0.0004647776411284603}. Best is trial 28 with value: 0.5392901301383972.\n",
      "[I 2025-06-22 23:39:54,710] Trial 77 finished with value: 0.5379058718681335 and parameters: {'hidden_size': 248, 'num_layers': 2, 'dropout': 0.01754206598877872, 'lr': 0.0006309165015638926}. Best is trial 28 with value: 0.5392901301383972.\n",
      "[I 2025-06-22 23:40:02,904] Trial 78 finished with value: 0.5332486033439636 and parameters: {'hidden_size': 221, 'num_layers': 2, 'dropout': 0.04764247674530652, 'lr': 0.0008938597856657468}. Best is trial 28 with value: 0.5392901301383972.\n",
      "[I 2025-06-22 23:40:15,956] Trial 79 finished with value: 0.53769850730896 and parameters: {'hidden_size': 256, 'num_layers': 3, 'dropout': 0.19697673672850827, 'lr': 0.000423196335327273}. Best is trial 28 with value: 0.5392901301383972.\n",
      "[I 2025-06-22 23:40:22,014] Trial 80 finished with value: 0.5367130637168884 and parameters: {'hidden_size': 166, 'num_layers': 2, 'dropout': 0.12105765536800674, 'lr': 0.0003450218640344755}. Best is trial 28 with value: 0.5392901301383972.\n",
      "[I 2025-06-22 23:40:35,878] Trial 81 finished with value: 0.537998616695404 and parameters: {'hidden_size': 237, 'num_layers': 3, 'dropout': 0.21404937308272912, 'lr': 0.0005210965001916877}. Best is trial 28 with value: 0.5392901301383972.\n",
      "[I 2025-06-22 23:40:49,000] Trial 82 finished with value: 0.5344117283821106 and parameters: {'hidden_size': 231, 'num_layers': 3, 'dropout': 0.25601105559220816, 'lr': 0.00037801427051819647}. Best is trial 28 with value: 0.5392901301383972.\n",
      "[I 2025-06-22 23:41:02,818] Trial 83 finished with value: 0.5356959700584412 and parameters: {'hidden_size': 243, 'num_layers': 3, 'dropout': 0.23440718970377525, 'lr': 0.0006846471724653047}. Best is trial 28 with value: 0.5392901301383972.\n",
      "[I 2025-06-22 23:41:13,433] Trial 84 finished with value: 0.5371870398521423 and parameters: {'hidden_size': 193, 'num_layers': 3, 'dropout': 0.2958434881515316, 'lr': 0.0006031170560318783}. Best is trial 28 with value: 0.5392901301383972.\n",
      "[I 2025-06-22 23:41:19,323] Trial 85 finished with value: 0.5329353213310242 and parameters: {'hidden_size': 114, 'num_layers': 3, 'dropout': 0.18488518318969094, 'lr': 0.0002534442893695266}. Best is trial 28 with value: 0.5392901301383972.\n",
      "[I 2025-06-22 23:41:32,136] Trial 86 finished with value: 0.5269775986671448 and parameters: {'hidden_size': 251, 'num_layers': 3, 'dropout': 0.27527110280163203, 'lr': 0.00045281689244022636}. Best is trial 28 with value: 0.5392901301383972.\n",
      "[I 2025-06-22 23:41:39,615] Trial 87 finished with value: 0.5385302901268005 and parameters: {'hidden_size': 209, 'num_layers': 2, 'dropout': 0.24150214986471294, 'lr': 0.0008059756841050633}. Best is trial 28 with value: 0.5392901301383972.\n",
      "[I 2025-06-22 23:41:47,382] Trial 88 finished with value: 0.5343881249427795 and parameters: {'hidden_size': 209, 'num_layers': 2, 'dropout': 0.21824235958463484, 'lr': 0.0010353750124843478}. Best is trial 28 with value: 0.5392901301383972.\n",
      "[I 2025-06-22 23:41:50,951] Trial 89 finished with value: 0.531170666217804 and parameters: {'hidden_size': 214, 'num_layers': 1, 'dropout': 0.2634448832447427, 'lr': 0.0008030269790602545}. Best is trial 28 with value: 0.5392901301383972.\n",
      "[I 2025-06-22 23:42:00,640] Trial 90 finished with value: 0.5255022048950195 and parameters: {'hidden_size': 201, 'num_layers': 2, 'dropout': 0.22821079380056855, 'lr': 0.007260025430338007}. Best is trial 28 with value: 0.5392901301383972.\n",
      "[I 2025-06-22 23:42:12,345] Trial 91 finished with value: 0.5379262566566467 and parameters: {'hidden_size': 225, 'num_layers': 2, 'dropout': 0.24606602691571894, 'lr': 0.0005401319992840932}. Best is trial 28 with value: 0.5392901301383972.\n",
      "[I 2025-06-22 23:42:23,173] Trial 92 finished with value: 0.5335783362388611 and parameters: {'hidden_size': 235, 'num_layers': 2, 'dropout': 0.2020877481262741, 'lr': 0.0007392441423701322}. Best is trial 28 with value: 0.5392901301383972.\n",
      "[I 2025-06-22 23:42:34,687] Trial 93 finished with value: 0.5387987494468689 and parameters: {'hidden_size': 221, 'num_layers': 2, 'dropout': 0.27464956354766523, 'lr': 0.0006103699241958168}. Best is trial 28 with value: 0.5392901301383972.\n",
      "[I 2025-06-22 23:42:46,816] Trial 94 finished with value: 0.5380793213844299 and parameters: {'hidden_size': 218, 'num_layers': 2, 'dropout': 0.3208434807656364, 'lr': 0.0006208918752982924}. Best is trial 28 with value: 0.5392901301383972.\n",
      "[I 2025-06-22 23:42:55,568] Trial 95 finished with value: 0.5391958355903625 and parameters: {'hidden_size': 208, 'num_layers': 2, 'dropout': 0.35004463630983784, 'lr': 0.0009309561844389827}. Best is trial 28 with value: 0.5392901301383972.\n",
      "[I 2025-06-22 23:43:02,766] Trial 96 finished with value: 0.5363641381263733 and parameters: {'hidden_size': 136, 'num_layers': 2, 'dropout': 0.3797456509861913, 'lr': 0.001153470229561703}. Best is trial 28 with value: 0.5392901301383972.\n",
      "[I 2025-06-22 23:43:11,441] Trial 97 finished with value: 0.5301042795181274 and parameters: {'hidden_size': 208, 'num_layers': 2, 'dropout': 0.35579940010740946, 'lr': 0.0013468403907772515}. Best is trial 28 with value: 0.5392901301383972.\n",
      "[I 2025-06-22 23:43:20,351] Trial 98 finished with value: 0.5363345742225647 and parameters: {'hidden_size': 214, 'num_layers': 2, 'dropout': 0.32324753433250597, 'lr': 0.0009124389657779637}. Best is trial 28 with value: 0.5392901301383972.\n",
      "[I 2025-06-22 23:43:29,937] Trial 99 finished with value: 0.5358766913414001 and parameters: {'hidden_size': 222, 'num_layers': 2, 'dropout': 0.3944650989096436, 'lr': 0.0008545950643087016}. Best is trial 28 with value: 0.5392901301383972.\n"
     ]
    }
   ],
   "source": [
    "study = optuna.create_study(direction=\"maximize\")\n",
    "study.optimize(objective, n_trials=100)"
   ]
  },
  {
   "cell_type": "code",
   "execution_count": 120,
   "metadata": {},
   "outputs": [
    {
     "name": "stdout",
     "output_type": "stream",
     "text": [
      "{'hidden_size': 208, 'num_layers': 2, 'dropout': 0.21265886609338036, 'lr': 0.0005223643206310589}\n"
     ]
    }
   ],
   "source": [
    "best_params = study.best_trial.params\n",
    "print(best_params)"
   ]
  },
  {
   "cell_type": "code",
   "execution_count": 121,
   "metadata": {},
   "outputs": [
    {
     "name": "stdout",
     "output_type": "stream",
     "text": [
      "Epoch 0, Loss: 0.3195\n",
      "Epoch 5, Loss: 0.3988\n",
      "Epoch 10, Loss: 0.4585\n",
      "Epoch 15, Loss: 0.3510\n",
      "Epoch 20, Loss: 0.4351\n",
      "Epoch 25, Loss: 0.4418\n"
     ]
    }
   ],
   "source": [
    "best_model = LSTM(\n",
    "    input_size=X_train.shape[2],\n",
    "    hidden_size=best_params[\"hidden_size\"],\n",
    "    num_layers=best_params[\"num_layers\"],\n",
    "    dropout=best_params[\"dropout\"] if best_params[\"num_layers\"] > 1 else 0.0\n",
    ")\n",
    "\n",
    "optimizer = torch.optim.Adam(best_model.parameters(), lr=best_params[\"lr\"])\n",
    "loss_fn = nn.MSELoss()\n",
    "\n",
    "for epoch in range(30):\n",
    "    best_model.train()\n",
    "    for xb, yb in train_loader:\n",
    "        pred = best_model(xb)\n",
    "        loss = loss_fn(pred, yb)\n",
    "        optimizer.zero_grad()\n",
    "        loss.backward()\n",
    "        optimizer.step()\n",
    "\n",
    "    if epoch % 5 == 0:\n",
    "        print(f\"Epoch {epoch}, Loss: {loss.item():.4f}\")"
   ]
  },
  {
   "cell_type": "code",
   "execution_count": 122,
   "metadata": {},
   "outputs": [],
   "source": [
    "best_model.eval()\n",
    "preds, targets = [], []\n",
    "\n",
    "with torch.no_grad():\n",
    "    for xb, yb in val_loader:\n",
    "        out = best_model(xb)\n",
    "        preds.append(out.numpy())\n",
    "        targets.append(yb.numpy())\n",
    "\n",
    "preds = np.concatenate(preds, axis=0)\n",
    "targets = np.concatenate(targets, axis=0)\n",
    "\n",
    "preds_orig = y_scaler.inverse_transform(preds)\n",
    "targets_orig = y_scaler.inverse_transform(targets)"
   ]
  },
  {
   "cell_type": "code",
   "execution_count": 123,
   "metadata": {},
   "outputs": [
    {
     "name": "stdout",
     "output_type": "stream",
     "text": [
      "R² Score: 0.5390410423278809\n",
      "MAE: 0.11306972056627274\n",
      "MSE: 0.028025291860103607\n",
      "RMSE: 0.16740756213535757\n"
     ]
    }
   ],
   "source": [
    "from sklearn.metrics import mean_squared_error, r2_score, mean_absolute_error\n",
    "\n",
    "print(\"R² Score:\", r2_score(targets_orig, preds_orig))\n",
    "print(\"MAE:\", mean_absolute_error(targets_orig, preds_orig))\n",
    "print(\"MSE:\", mean_squared_error(targets_orig, preds_orig))\n",
    "print(\"RMSE:\", np.sqrt(mean_squared_error(targets_orig, preds_orig)))"
   ]
  },
  {
   "cell_type": "code",
   "execution_count": 124,
   "metadata": {},
   "outputs": [
    {
     "name": "stdout",
     "output_type": "stream",
     "text": [
      "next_games_played_per\n",
      "R²: 0.4227102994918823\n",
      "MAE: 0.1939525604248047\n",
      "MSE: 0.06216659024357796\n",
      "RMSE: 0.24933228881069125\n",
      "next_goals_per_game\n",
      "R²: 0.5904867649078369\n",
      "MAE: 0.057645585387945175\n",
      "MSE: 0.007465627510100603\n",
      "RMSE: 0.08640386281932425\n",
      "next_assists_per_game\n",
      "R²: 0.6039255857467651\n",
      "MAE: 0.08761127293109894\n",
      "MSE: 0.014443689957261086\n",
      "RMSE: 0.12018190361806176\n"
     ]
    }
   ],
   "source": [
    "target_names = ['next_games_played_per', 'next_goals_per_game', 'next_assists_per_game']\n",
    "for i, name in enumerate(target_names):\n",
    "    print(f\"{name}\")\n",
    "    print(\"R²:\", r2_score(targets_orig[:, i], preds_orig[:, i]))\n",
    "    print(\"MAE:\", mean_absolute_error(targets_orig[:, i], preds_orig[:, i]))\n",
    "    print(\"MSE:\", mean_squared_error(targets_orig[:, i], preds_orig[:, i]))\n",
    "    print(\"RMSE:\", np.sqrt(mean_squared_error(targets_orig[:, i], preds_orig[:, i])))"
   ]
  },
  {
   "cell_type": "code",
   "execution_count": 125,
   "metadata": {},
   "outputs": [],
   "source": [
    "import joblib"
   ]
  },
  {
   "cell_type": "code",
   "execution_count": 127,
   "metadata": {},
   "outputs": [
    {
     "data": {
      "text/plain": [
       "['../models/y_scaler.pkl']"
      ]
     },
     "execution_count": 127,
     "metadata": {},
     "output_type": "execute_result"
    }
   ],
   "source": [
    "torch.save(best_model.state_dict(), \"../models/lstm_nhl_model.pt\")\n",
    "joblib.dump(X_scaler, \"../models/X_scaler.pkl\")\n",
    "joblib.dump(y_scaler, \"../models/y_scaler.pkl\")"
   ]
  },
  {
   "cell_type": "code",
   "execution_count": null,
   "metadata": {},
   "outputs": [],
   "source": []
  }
 ],
 "metadata": {
  "kernelspec": {
   "display_name": "Python (FinBERT Global)",
   "language": "python",
   "name": "finbert-global"
  },
  "language_info": {
   "codemirror_mode": {
    "name": "ipython",
    "version": 3
   },
   "file_extension": ".py",
   "mimetype": "text/x-python",
   "name": "python",
   "nbconvert_exporter": "python",
   "pygments_lexer": "ipython3",
   "version": "3.10.13"
  }
 },
 "nbformat": 4,
 "nbformat_minor": 2
}
