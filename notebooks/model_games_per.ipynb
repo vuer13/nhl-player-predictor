{
 "cells": [
  {
   "cell_type": "code",
   "execution_count": 3,
   "metadata": {},
   "outputs": [],
   "source": [
    "import numpy as np\n",
    "import pandas as pd\n",
    "\n",
    "from xgboost import XGBRegressor\n",
    "from sklearn.model_selection import train_test_split\n",
    "from sklearn.model_selection import GridSearchCV\n",
    "from sklearn.metrics import mean_squared_error, r2_score, mean_absolute_error"
   ]
  },
  {
   "cell_type": "code",
   "execution_count": 4,
   "metadata": {},
   "outputs": [
    {
     "name": "stdout",
     "output_type": "stream",
     "text": [
      "['team', 'season', 'games_played_team', 'xGoalsFor_team', 'goalsFor_team', 'highDangerShotsFor_team', 'highDangerxGoalsFor_team', 'highDangerGoalsFor', 'xGoalsFor - goalsFor', 'playerId', 'name', 'position', 'games_played', 'xGoals', 'pAssists', 'sAssists', 'sog', 'points', 'goals', 'on_ice_chances', 'on_ice_goals', 'icetime_per_game', 'shot_percentage', 'points_per_60', 'ixG-goals', 'ppg', 'apg', 'gpg', 'points_lag_1', 'points_lag_1_missing', 'points_lag_2', 'points_lag_2_missing', 'points_lag_3', 'points_lag_3_missing', 'points_lag_4', 'points_lag_4_missing', 'points_lag_5', 'points_lag_5_missing', 'ppg_lag_1', 'ppg_lag_1_missing', 'ppg_lag_2', 'ppg_lag_2_missing', 'ppg_lag_3', 'ppg_lag_3_missing', 'ppg_lag_4', 'ppg_lag_4_missing', 'ppg_lag_5', 'ppg_lag_5_missing', 'pAssists_lag_1', 'pAssists_lag_1_missing', 'pAssists_lag_2', 'pAssists_lag_2_missing', 'pAssists_lag_3', 'pAssists_lag_3_missing', 'pAssists_lag_4', 'pAssists_lag_4_missing', 'pAssists_lag_5', 'pAssists_lag_5_missing', 'sAssists_lag_1', 'sAssists_lag_1_missing', 'sAssists_lag_2', 'sAssists_lag_2_missing', 'sAssists_lag_3', 'sAssists_lag_3_missing', 'sAssists_lag_4', 'sAssists_lag_4_missing', 'sAssists_lag_5', 'sAssists_lag_5_missing', 'goals_lag_1', 'goals_lag_1_missing', 'goals_lag_2', 'goals_lag_2_missing', 'goals_lag_3', 'goals_lag_3_missing', 'goals_lag_4', 'goals_lag_4_missing', 'goals_lag_5', 'goals_lag_5_missing', 'gpg_lag_1', 'gpg_lag_1_missing', 'gpg_lag_2', 'gpg_lag_2_missing', 'gpg_lag_3', 'gpg_lag_3_missing', 'gpg_lag_4', 'gpg_lag_4_missing', 'gpg_lag_5', 'gpg_lag_5_missing', 'apg_lag_1', 'apg_lag_1_missing', 'apg_lag_2', 'apg_lag_2_missing', 'apg_lag_3', 'apg_lag_3_missing', 'apg_lag_4', 'apg_lag_4_missing', 'apg_lag_5', 'apg_lag_5_missing', 'icetime_per_game_lag_1', 'icetime_per_game_lag_1_missing', 'next_goals_per_game', 'next_assists_per_game', 'age', 'games_played_per', 'games_played_per_lag_1', 'games_played_per_lag_1_missing', 'games_played_per_lag_2', 'games_played_per_lag_2_missing', 'games_played_per_lag_3', 'games_played_per_lag_3_missing', 'games_played_per_lag_4', 'games_played_per_lag_4_missing', 'games_played_per_lag_5', 'games_played_per_lag_5_missing', 'games_played_lag_1', 'games_played_lag_1_missing', 'next_games_played_per']\n"
     ]
    },
    {
     "data": {
      "text/plain": [
       "2071"
      ]
     },
     "execution_count": 4,
     "metadata": {},
     "output_type": "execute_result"
    }
   ],
   "source": [
    "df = pd.read_csv(\"../data/cleaned_data_train.csv\")\n",
    "print(df.columns.tolist())\n",
    "len(df)"
   ]
  },
  {
   "cell_type": "code",
   "execution_count": 5,
   "metadata": {},
   "outputs": [
    {
     "data": {
      "text/plain": [
       "2071"
      ]
     },
     "execution_count": 5,
     "metadata": {},
     "output_type": "execute_result"
    }
   ],
   "source": [
    "features = [\"games_played\", \"icetime_per_game\", \"position\", \"icetime_per_game_lag_1\", \"icetime_per_game_lag_1_missing\",\n",
    "            \"games_played_per\", \"games_played_per_lag_1\", \"games_played_per_lag_1_missing\", \n",
    "            \"games_played_per_lag_2\", \"games_played_per_lag_3\", \"games_played_per_lag_4\", \"games_played_per_lag_5\",\n",
    "            \"games_played_per_lag_2_missing\", \"games_played_per_lag_3_missing\", \"games_played_per_lag_4_missing\", \"games_played_per_lag_5_missing\",\n",
    "            \"games_played_lag_1\", \"games_played_lag_1_missing\", \"points_per_60\", \"age\"]\n",
    "target = [\"next_games_played_per\"]\n",
    "\n",
    "df_model = df.dropna(subset = features + target)\n",
    "len(df_model)"
   ]
  },
  {
   "cell_type": "code",
   "execution_count": 6,
   "metadata": {},
   "outputs": [
    {
     "data": {
      "text/plain": [
       "((1656, 20), (415, 20), (1656, 1), (415, 1))"
      ]
     },
     "execution_count": 6,
     "metadata": {},
     "output_type": "execute_result"
    }
   ],
   "source": [
    "X = df_model[features]\n",
    "Y = df_model[target]\n",
    "\n",
    "X_train, X_valid, Y_train, Y_valid = train_test_split(X, Y, test_size = 0.2, random_state = 13)\n",
    "X_train.shape, X_valid.shape, Y_train.shape, Y_valid.shape"
   ]
  },
  {
   "cell_type": "code",
   "execution_count": 7,
   "metadata": {},
   "outputs": [],
   "source": [
    "xgb = XGBRegressor(objective = \"reg:squarederror\", random_state = 13, verbosity = 0)"
   ]
  },
  {
   "cell_type": "code",
   "execution_count": 8,
   "metadata": {},
   "outputs": [],
   "source": [
    "from sklearn.preprocessing import LabelEncoder\n",
    "\n",
    "le = LabelEncoder()\n",
    "X_train[\"position\"] = le.fit_transform(X_train[\"position\"])\n",
    "X_valid[\"position\"] = le.transform(X_valid[\"position\"])"
   ]
  },
  {
   "cell_type": "code",
   "execution_count": 20,
   "metadata": {},
   "outputs": [],
   "source": [
    "param_grid = {\n",
    "    \"max_depth\": [3, 5],\n",
    "    \"learning_rate\": [0.000001, 0.0001, 0.01],\n",
    "    \"n_estimators\": [300, 500, 700, 900],\n",
    "    \"subsample\": [0.8, 1.0],\n",
    "    \"colsample_bytree\": [0.8, 1.0],\n",
    "    \"reg_alpha\": [0, 0.1],\n",
    "    \"reg_lambda\": [1, 2, 5]\n",
    "}"
   ]
  },
  {
   "cell_type": "code",
   "execution_count": 21,
   "metadata": {},
   "outputs": [],
   "source": [
    "xgb_grid = GridSearchCV(\n",
    "    estimator=xgb,\n",
    "    param_grid=param_grid,\n",
    "    scoring=\"r2\",\n",
    "    cv=5,\n",
    "    verbose=1,\n",
    "    n_jobs=-1\n",
    ")"
   ]
  },
  {
   "cell_type": "code",
   "execution_count": 22,
   "metadata": {},
   "outputs": [
    {
     "name": "stdout",
     "output_type": "stream",
     "text": [
      "Fitting 5 folds for each of 576 candidates, totalling 2880 fits\n"
     ]
    }
   ],
   "source": [
    "xgb_grid.fit(X_train, Y_train)\n",
    "\n",
    "best_model = xgb_grid.best_estimator_"
   ]
  },
  {
   "cell_type": "code",
   "execution_count": 24,
   "metadata": {},
   "outputs": [
    {
     "name": "stdout",
     "output_type": "stream",
     "text": [
      "{'colsample_bytree': 1.0, 'learning_rate': 0.01, 'max_depth': 3, 'n_estimators': 300, 'reg_alpha': 0.1, 'reg_lambda': 5, 'subsample': 0.8}\n"
     ]
    }
   ],
   "source": [
    "print(xgb_grid.best_params_)"
   ]
  },
  {
   "cell_type": "code",
   "execution_count": 25,
   "metadata": {},
   "outputs": [],
   "source": [
    "y_pred = best_model.predict(X_valid)"
   ]
  },
  {
   "cell_type": "code",
   "execution_count": 26,
   "metadata": {},
   "outputs": [
    {
     "data": {
      "text/plain": [
       "0.18887943029403687"
      ]
     },
     "execution_count": 26,
     "metadata": {},
     "output_type": "execute_result"
    }
   ],
   "source": [
    "mean_absolute_error(Y_valid, y_pred)"
   ]
  },
  {
   "cell_type": "code",
   "execution_count": 27,
   "metadata": {},
   "outputs": [
    {
     "data": {
      "text/plain": [
       "0.05667976289987564"
      ]
     },
     "execution_count": 27,
     "metadata": {},
     "output_type": "execute_result"
    }
   ],
   "source": [
    "mean_squared_error(Y_valid, y_pred)"
   ]
  },
  {
   "cell_type": "code",
   "execution_count": 28,
   "metadata": {},
   "outputs": [
    {
     "data": {
      "text/plain": [
       "0.32079434394836426"
      ]
     },
     "execution_count": 28,
     "metadata": {},
     "output_type": "execute_result"
    }
   ],
   "source": [
    "r2_score(Y_valid, y_pred)"
   ]
  }
 ],
 "metadata": {
  "kernelspec": {
   "display_name": "venv",
   "language": "python",
   "name": "python3"
  },
  "language_info": {
   "codemirror_mode": {
    "name": "ipython",
    "version": 3
   },
   "file_extension": ".py",
   "mimetype": "text/x-python",
   "name": "python",
   "nbconvert_exporter": "python",
   "pygments_lexer": "ipython3",
   "version": "3.9.6"
  }
 },
 "nbformat": 4,
 "nbformat_minor": 2
}
