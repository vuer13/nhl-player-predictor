{
 "cells": [
  {
   "cell_type": "code",
   "execution_count": null,
   "id": "69a883c7-caf4-4136-baaf-31322bbae716",
   "metadata": {
    "vscode": {
     "languageId": "python"
    }
   },
   "outputs": [],
   "source": []
  }
 ],
 "metadata": {
  "kernelspec": {
   "display_name": "",
   "name": ""
  },
  "language_info": {
   "name": ""
  }
 },
 "nbformat": 4,
 "nbformat_minor": 5
}
